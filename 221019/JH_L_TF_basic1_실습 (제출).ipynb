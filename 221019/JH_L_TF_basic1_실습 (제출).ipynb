{
  "cells": [
    {
      "cell_type": "markdown",
      "metadata": {
        "id": "mw2VBrBcgvGa"
      },
      "source": [
        "집값은 기본금액 50k 에, 침실 하나당  50k 가 추가가 된다. 즉 침실 하나 있는 집은 50000 + 50000 * 1 = 100k  되고,  침실이 2 개인 집값은 50k + 50k * 2  =  150k 가 된다.\n",
        "\n",
        "아래 모델을 완성하고, 침실이 7 개인 집값은 거의 400k 가 나오는지 확인하라.\n",
        "(xs 와 ys 에 각각 6개의 데이터를 만들어서 넣기)\n",
        "\n",
        "* k는 1000 을 의미한다.\n",
        "* xs 와 ys 값은 범위를 비슷하게 만들어 주면 학습이 잘 된다. 따라서 ys의 값을 십만 단위로 잘라서 데이터를 처리해도 됩니다. "
      ]
    },
    {
      "cell_type": "code",
      "execution_count": 1,
      "metadata": {
        "id": "8Gj75ThYdj64"
      },
      "outputs": [],
      "source": [
        "import tensorflow as tf\n",
        "import numpy as np\n",
        "from tensorflow import keras"
      ]
    },
    {
      "cell_type": "code",
      "execution_count": 21,
      "metadata": {
        "id": "PUNO2E6SeURH"
      },
      "outputs": [],
      "source": [
        "def house_model(y_new):\n",
        "    # x와 y의 상관관계를 생각하여 값 입력하기\n",
        "    xs = np.array([1,2,3,4,5,6], dtype = float)\n",
        "    ys = np.array([1,1.5,2,2.5,3,3.5], dtype = float)\n",
        "\n",
        "    # 일차함수 형태를 학습시키는 것이므로 입력1, 출력1이어야 함(뉴런은 여러개라도 상관없으나 단순한 모델이기에 돼지 목에 진주목걸이가 될지도)\n",
        "    model = tf.keras.Sequential([keras.layers.Dense(units=1, input_shape=[1])]) #units: hidden layer 개수 / input_shape: 독립변수 개수\n",
        "\n",
        "    # 컴파일을 위해서는 optimizer와 loss가 필요함\n",
        "    model.compile(optimizer = 'sgd', loss = 'mse') # AI가 학습하며 발생하는 오류(손실을 측정/ 입력/출력을 바탕으로 규칙을 파악(생성)하는데, 예측이 얼마나 잘 되었는지 평가함\n",
        "    #loss가 적을수록 수렴(학습이 잘 되고/되어 있음), mse=mean_squared_error(평균 제곱 오차) #optimizer(최적화 방법): sgd(확률적 경사 하강 방식)\n",
        "    #loss 함수로 예측이 얼마나 잘되었는지 평가, 모델 최적화 위해 어떻게 할 것인지 의사결정\n",
        "    \n",
        "    # x와 y의 관계를 찾기 위해서 학습하는 함수인 model.fit함수 호출(현재 학습자료가 적으니 epoch를 늘려 학습기회를 많이 주는 것이 좋음)\n",
        "    # model.fit(xs, ys, epochs=500)\n",
        "    epoch=int(input(\"Epoch를 입력하세요: \"))\n",
        "    vb=input(\"학습 과정을 출력할까요? (y/n) (기본값은 n입니다. 출력할 경우 학습 시간이 더 오래 걸릴 수 있습니다.): \")\n",
        "    vbn=0\n",
        "    if vb=='y' or vb==\"Y\":\n",
        "      vbn=1\n",
        "    print(\"----------------\\nTranining Started\\nEpochs:\",epoch,\"\\n----------------\")\n",
        "    model.fit(xs, ys, epochs=epoch,verbose=vbn)\n",
        "    return model.predict(y_new)[0]"
      ]
    },
    {
      "cell_type": "code",
      "execution_count": null,
      "metadata": {
        "colab": {
          "base_uri": "https://localhost:8080/"
        },
        "id": "VldOBQbodj65",
        "outputId": "59f29351-a8a8-4c2d-f8b1-33dd93d26bba"
      },
      "outputs": [
        {
          "name": "stdout",
          "output_type": "stream",
          "text": [
            "예측할 값을 입력하세요: 7\n"
          ]
        }
      ],
      "source": [
        "# 모델을 학습시켜 규칙을 만드는데, numpy로 자료를 생성했으므로 입력할 때도 고려해서 매개변수 입력해야 함!\n",
        "prediction = house_model([int(input(\"예측할 값을 입력하세요: \"))])\n",
        "print(\"예측된 집값: \"+str(prediction*100).replace(\"[\",\"\").replace(\"]\",\"\")+\"K\")"
      ]
    }
  ],
  "metadata": {
    "colab": {
      "collapsed_sections": [],
      "provenance": []
    },
    "coursera": {
      "course_slug": "introduction-tensorflow",
      "graded_item_id": "jRjw8",
      "launcher_item_id": "YoQKl"
    },
    "kernelspec": {
      "display_name": "Python 3.10.6 64-bit",
      "language": "python",
      "name": "python3"
    },
    "language_info": {
      "codemirror_mode": {
        "name": "ipython",
        "version": 3
      },
      "file_extension": ".py",
      "mimetype": "text/x-python",
      "name": "python",
      "nbconvert_exporter": "python",
      "pygments_lexer": "ipython3",
      "version": "3.10.6"
    },
    "vscode": {
      "interpreter": {
        "hash": "aee8b7b246df8f9039afb4144a1f6fd8d2ca17a180786b69acc140d282b71a49"
      }
    }
  },
  "nbformat": 4,
  "nbformat_minor": 0
}
