{
  "cells": [
    {
      "cell_type": "markdown",
      "metadata": {
        "id": "mw2VBrBcgvGa"
      },
      "source": [
        "집값은 기본금액 50k 에, 침실 하나당  50k 가 추가가 된다. 즉 침실 하나 있는 집은 50000 + 50000 * 1 = 100k  되고,  침실이 2 개인 집값은 50k + 50k * 2  =  150k 가 된다.\n",
        "\n",
        "아래 모델을 완성하고, 침실이 7 개인 집값은 거의 400k 가 나오는지 확인하라.\n",
        "(xs 와 ys 에 각각 6개의 데이터를 만들어서 넣기)\n",
        "\n",
        "* k는 1000 을 의미한다.\n",
        "* xs 와 ys 값은 범위를 비슷하게 만들어 주면 학습이 잘 된다. 따라서 ys의 값을 십만 단위로 잘라서 데이터를 처리해도 됩니다. "
      ]
    },
    {
      "cell_type": "code",
      "execution_count": 1,
      "metadata": {
        "id": "8Gj75ThYdj64"
      },
      "outputs": [
        {
          "name": "stderr",
          "output_type": "stream",
          "text": [
            "2022-10-19 11:19:57.006397: I tensorflow/core/platform/cpu_feature_guard.cc:193] This TensorFlow binary is optimized with oneAPI Deep Neural Network Library (oneDNN) to use the following CPU instructions in performance-critical operations:  AVX2 FMA\n",
            "To enable them in other operations, rebuild TensorFlow with the appropriate compiler flags.\n"
          ]
        }
      ],
      "source": [
        "import tensorflow as tf\n",
        "import numpy as np\n",
        "from tensorflow import keras"
      ]
    },
    {
      "cell_type": "code",
      "execution_count": 2,
      "metadata": {
        "id": "PUNO2E6SeURH"
      },
      "outputs": [
        {
          "ename": "SyntaxError",
          "evalue": "invalid syntax (153719295.py, line 3)",
          "output_type": "error",
          "traceback": [
            "\u001b[0;36m  Cell \u001b[0;32mIn [2], line 3\u001b[0;36m\u001b[0m\n\u001b[0;31m    xs = # Your Code Here\u001b[0m\n\u001b[0m         ^\u001b[0m\n\u001b[0;31mSyntaxError\u001b[0m\u001b[0;31m:\u001b[0m invalid syntax\n"
          ]
        }
      ],
      "source": [
        "def house_model(y_new):\n",
        "    # x와 y의 상관관계를 생각하여 값 입력하기\n",
        "    xs = # Your Code Here\n",
        "    ys = # Your Code Here\n",
        "\n",
        "    # 일차함수 형태를 학습시키는 것이므로 입력1, 출력1이어야 함(뉴런은 여러개라도 상관없으나 단순한 모델이기에 돼지 목에 진주목걸이가 될지도)\n",
        "    model = # Your Code Here\n",
        "\n",
        "    # 컴파일을 위해서는 optimizer와 loss가 필요함\n",
        "    model.compile(# Your Code Here )\n",
        "    \n",
        "    # x와 y의 관계를 찾기 위해서 학습하는 함수인 model.fit함수 호출(현재 학습자료가 적으니 epoch를 늘려 학습기회를 많이 주는 것이 좋음)\n",
        "    model.fit(# Your Code here )\n",
        "    return model.predict(y_new)[0]"
      ]
    },
    {
      "cell_type": "code",
      "execution_count": null,
      "metadata": {
        "id": "VldOBQbodj65"
      },
      "outputs": [],
      "source": [
        "# 모델을 학습시켜 규칙을 만드는데, numpy로 자료를 생성했으므로 입력할 때도 고려해서 매개변수 입력해야 함!\n",
        "prediction = house_model( # Your Code here#    )\n",
        "print(prediction)"
      ]
    }
  ],
  "metadata": {
    "colab": {
      "collapsed_sections": [],
      "provenance": []
    },
    "coursera": {
      "course_slug": "introduction-tensorflow",
      "graded_item_id": "jRjw8",
      "launcher_item_id": "YoQKl"
    },
    "kernelspec": {
      "display_name": "Python 3.10.6 64-bit",
      "language": "python",
      "name": "python3"
    },
    "language_info": {
      "codemirror_mode": {
        "name": "ipython",
        "version": 3
      },
      "file_extension": ".py",
      "mimetype": "text/x-python",
      "name": "python",
      "nbconvert_exporter": "python",
      "pygments_lexer": "ipython3",
      "version": "3.10.6"
    },
    "vscode": {
      "interpreter": {
        "hash": "aee8b7b246df8f9039afb4144a1f6fd8d2ca17a180786b69acc140d282b71a49"
      }
    }
  },
  "nbformat": 4,
  "nbformat_minor": 0
}
